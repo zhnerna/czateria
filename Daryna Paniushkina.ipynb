{
  "nbformat": 4,
  "nbformat_minor": 0,
  "metadata": {
    "colab": {
      "provenance": []
    },
    "kernelspec": {
      "name": "python3",
      "display_name": "Python 3"
    },
    "language_info": {
      "name": "python"
    }
  },
  "cells": [
    {
      "cell_type": "code",
      "execution_count": null,
      "metadata": {
        "id": "ugYaWXsV8xPW"
      },
      "outputs": [],
      "source": []
    },
    {
      "cell_type": "markdown",
      "source": [
        "\n",
        "**Zadanie 1**\n",
        "\n",
        "Streszczanie tekstu: To zadanie wymaga umiejętności zrozumienia, analizy i syntezy informacji. Osoba musi wydobyć kluczowe informacje i skrócić tekst, zachowując jego sens.\n",
        "\n",
        "Tłumaczenie tekstu: To bardziej złożone zadanie, które wymaga nie tylko znajomości dwóch języków, ale także zdolności do interpretacji kontekstu, tonu i niuansów kulturowych.\n",
        "\n",
        "Klasyfikacja tekstu do kategorii tematycznych: Wymaga analizy treści oraz umiejętności zrozumienia kontekstu, co może być trudne w przypadku niejednoznacznych lub złożonych tekstów.\n",
        "\n",
        "Układanie rozkładu jazdy transportu miejskiego: Wymaga zrozumienia potrzeb społeczności, umiejętności analizy danych i optymalizacji, co jest dość skomplikowane.\n",
        "\n",
        "Programowanie: To zadanie wymaga logicznego myślenia, rozwiązywania problemów i kreatywności w tworzeniu algorytmów oraz rozwiązań.\n",
        "\n",
        "Komponowanie muzyki: To wyraz twórczej inteligencji, który wymaga nie tylko umiejętności technicznych, ale także wyczucia estetyki i emocji.\n",
        "\n",
        "Kierowanie samochodem: To złożone zadanie wymagające szybkiego przetwarzania informacji, oceny sytuacji i podejmowania decyzji w czasie rzeczywistym.\n",
        "\n",
        "---\n",
        "\n",
        "\n",
        "\n",
        "**Zadanie 2**\n",
        "\n",
        "Streszczanie tekstu: To zadanie często wykorzystuje techniki przetwarzania języka naturalnego, aby zrozumieć i skrócić tekst, zachowując jego główne punkty. Wymaga analizy i syntezy, co jest charakterystyczne dla AI.\n",
        "\n",
        "Tłumaczenie tekstu: Tłumaczenie z jednego języka na inny wymaga nie tylko znajomości języków, ale także zrozumienia kontekstu i kultury. Wykorzystuje zaawansowane algorytmy NLP i modele uczenia maszynowego.\n",
        "\n",
        "Klasyfikacja tekstu do kategorii tematycznych: To zadanie polega na przypisaniu tekstu do określonych kategorii i również korzysta z technik uczenia maszynowego oraz analizy danych.\n",
        "\n",
        "Odpowiadanie na proste pytania zadawane w języku naturalnym: To jedno z kluczowych zastosowań AI, które wymaga przetwarzania języka naturalnego oraz rozumienia kontekstu.\n",
        "\n",
        "Układanie rozkładu jazdy: To złożone zadanie, które wymaga analizy danych, optymalizacji i uwzględnienia wielu czynników, co jest wyzwaniem dla AI.\n",
        "\n",
        "Kierowanie samochodem: Autonomiczne pojazdy wykorzystują sztuczną inteligencję do analizy danych sensorycznych, podejmowania decyzji i planowania ruchu w czasie rzeczywistym.\n",
        "Rozmowa towarzyska: Sztuczne systemy, takie jak chatboty, mogą prowadzić proste rozmowy towarzyskie, ale ich zdolność do imitowania głębokich interakcji emocjonalnych i kontekstu społecznego jest ograniczona. Można jednak zauważyć pewne postępy w tej dziedzinie, zwłaszcza w systemach opartych na sztucznej inteligencji.\n",
        "\n",
        "---\n",
        "\n",
        "\n",
        "\n",
        "**Zadanie 3**\n",
        "\n",
        "Rozmowa towarzyska: Sztuczne systemy, takie jak chatboty, mogą prowadzić proste rozmowy towarzyskie, ale ich zdolność do imitowania głębokich interakcji emocjonalnych i kontekstu społecznego jest ograniczona. Można jednak zauważyć pewne postępy w tej dziedzinie, zwłaszcza w systemach opartych na sztucznej inteligencji.\n",
        "\n",
        "Dyskusja polityczna: Sztuczne systemy mogą uczestniczyć w dyskusjach politycznych, analizując dane i prezentując argumenty, ale ich zdolność do zrozumienia niuansów emocjonalnych i subiektywnych jest ograniczona. Systemy AI mogą dostarczać informacji, ale niekoniecznie rozumieją kontekst polityczny.\n",
        "\n",
        "Dyskusja naukowa: To obszar, w którym sztuczna inteligencja może być użyteczna w analizie danych i prezentacji wyników, ale pełne zrozumienie koncepcji naukowych, kreatywność i wnioskowanie są wciąż wyzwaniami dla AI. Może uczestniczyć w dyskusji, ale w ograniczonym zakresie.\n",
        "\n",
        "Odpowiadanie na pytania klientów w telefonicznej infolinii: Sztuczne systemy, takie jak wirtualni asystenci i chatboty, są coraz skuteczniejsze w udzielaniu odpowiedzi na pytania klientów. Mogą obsługiwać wiele zapytań jednocześnie i rozwiązywać problemy rutynowe.\n",
        "\n",
        "Odpowiadanie na pytania klientów w internetowej infolinii: To obszar, w którym sztuczna inteligencja może być bardzo skuteczna. Chatboty są powszechnie używane do udzielania odpowiedzi na pytania klientów, a ich efektywność stale rośnie dzięki zastosowaniu technik przetwarzania języka naturalnego\n",
        "\n",
        "---\n",
        "\n",
        "**Zadanie 4**\n",
        "\n",
        "Rozmawiałam z dwoma botami, takimi jak cleverbot.com i Google Assistant i zauważyłam między nimi wyraźną różnicę.\n",
        "\n",
        "cleverbot.com rozmawiał ze mną jak z prawdziwą osobą, odpowiadając na moje pytania żartem, a czasem nawet zmieniając temat. Bot nie udzielał dokładnych odpowiedzi i nie zapamiętywał informacji, o które go prosiłam. Z tego możemy wywnioskować, że bot nadaje się tylko do zabawnej komunikacji\n",
        "\n",
        "Asystent Google udzielił dokładniejszych odpowiedzi na pytania, ale nie nadaje się do żartobliwej komunikacji. Według moich obserwacji, bot nie był również w stanie zapamiętać informacji i odpowiedzieć na pytanie jednym z moich cytatów, wymyślając własną historię. Google Assistant jest oczywiście inteligentniejszy od cleverbot.com, ale nadal popełnia zauważalne błędy\n"
      ],
      "metadata": {
        "id": "AGI3t_nL8xxr"
      }
    }
  ]
}